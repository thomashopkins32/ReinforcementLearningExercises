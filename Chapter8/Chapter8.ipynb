{
 "cells": [
  {
   "cell_type": "markdown",
   "id": "da4e0b81",
   "metadata": {},
   "source": [
    "# **Reinforcement Learning: An Introduction** - Chapter 8\n",
    "Thomas Hopkins"
   ]
  },
  {
   "cell_type": "markdown",
   "id": "c9d3e7e4",
   "metadata": {},
   "source": [
    "## **Exercise 8.1**\n",
    "Table-lookup TD($\\lambda$) is a special case of general TD($\\lambda$) where each component of $\\vec \\theta_t$ represents a single state $s \\in S$. The term $\\nabla_{\\vec \\theta_t} V_t(s_t)$ becomes a 1-hot vector (zero vector with a 1 in a single component) that represents the state being updated. This method simply updates all of the states in one sweep using vector addition."
   ]
  },
  {
   "cell_type": "markdown",
   "id": "5661322b",
   "metadata": {},
   "source": [
    "## **Exercise 8.2**\n",
    "Similar to the previous exercise, the state aggregation method has one component of the parameter vector per group of states. The gradient vector is simply a 1-hot vector representing which group of states, or component of the parameter vector, should be updated."
   ]
  },
  {
   "cell_type": "markdown",
   "id": "dd260a40",
   "metadata": {},
   "source": [
    "## **Exercise 8.3**\n",
    "Let\n",
    "$$\\Delta \\vec \\theta_t = \\alpha [R_t^{\\lambda} - V_t(s_t)] \\nabla_{\\vec \\theta_t} V_t(s_t)$$\n",
    "be the update for the on-line method (8.4). The off-line method would then have\n",
    "$$\\Delta \\vec \\theta = \\alpha \\sum_{t=0}^{T-1} [R_t^{\\lambda} - V_t(s_t)] \\nabla_{\\vec \\theta_t} V_t(s_t)$$\n",
    "That is, the gradients need to be accumulated throughout the episode, then updated after the episode terminates."
   ]
  },
  {
   "cell_type": "markdown",
   "id": "22f37382",
   "metadata": {},
   "source": [
    "## **Exercise 8.4**\n",
    "The off-line version of the backward view is\n",
    "$$\\vec \\theta = \\vec \\theta + \\alpha \\sum_{t=0}^{T-1} \\delta_t \\vec e_t$$\n",
    "where\n",
    "$$\\Delta \\vec \\theta = \\alpha \\sum_{t=0}^{T-1} \\delta_t \\vec e_t$$\n",
    "As seen in the previous chapter, the forward and backward views are equivalent."
   ]
  },
  {
   "cell_type": "code",
   "execution_count": null,
   "id": "112e3794",
   "metadata": {},
   "outputs": [],
   "source": []
  }
 ],
 "metadata": {
  "kernelspec": {
   "display_name": "Julia 1.6.1",
   "language": "julia",
   "name": "julia-1.6"
  },
  "language_info": {
   "file_extension": ".jl",
   "mimetype": "application/julia",
   "name": "julia",
   "version": "1.6.1"
  }
 },
 "nbformat": 4,
 "nbformat_minor": 5
}
