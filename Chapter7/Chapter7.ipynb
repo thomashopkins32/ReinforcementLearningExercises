{
 "cells": [
  {
   "cell_type": "markdown",
   "id": "5b9cfe2f",
   "metadata": {},
   "source": [
    "# **Reinforcement Learning: An Introduction** - Chapter 7\n",
    "Thomas Hopkins"
   ]
  },
  {
   "cell_type": "markdown",
   "id": "554243ba",
   "metadata": {},
   "source": [
    "## **Exercise 7.1**\n",
    "The larger random walk task was most likely used because it would allow for larger $n$ steps to be taken and tested. A smaller walk would most likely shift the value of $n$ down. The change from the left-side end state from $0$ to $-1$ would cause larger $n$ to be more useful since a reward other than $0$ is computed along the $n$-step return if it reaches that terminal state."
   ]
  },
  {
   "cell_type": "markdown",
   "id": "01222e0e",
   "metadata": {},
   "source": [
    "## **Exercise 7.2**\n",
    "On-line methods most likely worked better than off-line methods because better estimates for values were used earlier in the learning process. Waiting until the end of the episode delays the ability to use the most up-to-date information. On the other hand, on-line methods allow this new information to be used immediately."
   ]
  },
  {
   "cell_type": "markdown",
   "id": "7ba2174d",
   "metadata": {},
   "source": [
    "## **Exercise 7.3**\n",
    "The only explanation I can think of is that 3-step returns are particularly noisy for this choice of initialization and number of states in the random walk. So, using a higher learning rate, $\\alpha$, causes the error to increase sharply over the first 10 episodes."
   ]
  },
  {
   "cell_type": "markdown",
   "id": "1b7cc4ed",
   "metadata": {},
   "source": [
    "## **Exercise 7.4**\n",
    "The equation for the weighting at time $t$ given by $\\lambda$ and its half-life $\\tau_{\\lambda}$ is\n",
    "$$(1 - \\lambda)\\lambda^t = (1 - \\lambda)(\\frac{1}{2})^{t/\\tau_{\\lambda}}$$\n",
    "$$\\Rightarrow \\lambda^t = (\\frac{1}{2})^{t/\\tau_{\\lambda}}$$\n",
    "$$\\Rightarrow t\\ln(\\lambda) = \\frac{t}{\\tau_{\\lambda}}\\ln( \\frac{1}{2})$$\n",
    "$$\\Rightarrow \\tau_{\\lambda} = -\\frac{\\ln(2)}{\\ln(\\lambda)}$$"
   ]
  },
  {
   "cell_type": "code",
   "execution_count": null,
   "id": "808c556b",
   "metadata": {},
   "outputs": [],
   "source": []
  }
 ],
 "metadata": {
  "kernelspec": {
   "display_name": "Julia 1.6.1",
   "language": "julia",
   "name": "julia-1.6"
  },
  "language_info": {
   "file_extension": ".jl",
   "mimetype": "application/julia",
   "name": "julia",
   "version": "1.6.1"
  }
 },
 "nbformat": 4,
 "nbformat_minor": 5
}
